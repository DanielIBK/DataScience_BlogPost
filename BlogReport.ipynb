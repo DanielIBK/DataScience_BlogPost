{
 "cells": [
  {
   "cell_type": "code",
   "execution_count": 1,
   "metadata": {},
   "outputs": [],
   "source": [
    "import numpy as np\n",
    "import pandas as pd\n",
    "#import math\n",
    "\n",
    "import matplotlib.pyplot as plt\n",
    "import seaborn as sns\n",
    "\n",
    "from sklearn.model_selection import train_test_split\n",
    "from sklearn import preprocessing\n",
    "#from sklearn.linear_model import LinearRegression\n",
    "#from sklearn.metrics import r2_score, mean_squared_error\n",
    "#from sklearn.feature_selection import SelectKBest\n",
    "#from sklearn.feature_selection import f_regression\n",
    "\n",
    "#import collections\n",
    "\n",
    "%matplotlib inline"
   ]
  },
  {
   "cell_type": "markdown",
   "source": [
    "# Overview"
   ],
   "metadata": {
    "collapsed": false,
    "pycharm": {
     "name": "#%% md\n"
    }
   }
  },
  {
   "cell_type": "code",
   "execution_count": 2,
   "metadata": {},
   "outputs": [],
   "source": [
    "pd.set_option('display.max_rows', 150)"
   ]
  },
  {
   "cell_type": "code",
   "execution_count": 3,
   "metadata": {},
   "outputs": [
    {
     "data": {
      "text/plain": "        id                           listing_url       scrape_id last_scraped  \\\n0   241032   https://www.airbnb.com/rooms/241032  20160104002432   2016-01-04   \n1   953595   https://www.airbnb.com/rooms/953595  20160104002432   2016-01-04   \n2  3308979  https://www.airbnb.com/rooms/3308979  20160104002432   2016-01-04   \n3  7421966  https://www.airbnb.com/rooms/7421966  20160104002432   2016-01-04   \n4   278830   https://www.airbnb.com/rooms/278830  20160104002432   2016-01-04   \n\n                                  name  \\\n0         Stylish Queen Anne Apartment   \n1   Bright & Airy Queen Anne Apartment   \n2  New Modern House-Amazing water view   \n3                   Queen Anne Chateau   \n4       Charming craftsman 3 bdm house   \n\n                                             summary  \\\n0                                                NaN   \n1  Chemically sensitive? We've removed the irrita...   \n2  New modern house built in 2013.  Spectacular s...   \n3  A charming apartment that sits atop Queen Anne...   \n4  Cozy family craftman house in beautiful neighb...   \n\n                                               space  \\\n0  Make your self at home in this charming one-be...   \n1  Beautiful, hypoallergenic apartment in an extr...   \n2  Our house is modern, light and fresh with a wa...   \n3                                                NaN   \n4  Cozy family craftman house in beautiful neighb...   \n\n                                         description experiences_offered  \\\n0  Make your self at home in this charming one-be...                none   \n1  Chemically sensitive? We've removed the irrita...                none   \n2  New modern house built in 2013.  Spectacular s...                none   \n3  A charming apartment that sits atop Queen Anne...                none   \n4  Cozy family craftman house in beautiful neighb...                none   \n\n                               neighborhood_overview  ... review_scores_value  \\\n0                                                NaN  ...                10.0   \n1  Queen Anne is a wonderful, truly functional vi...  ...                10.0   \n2  Upper Queen Anne is a charming neighborhood fu...  ...                10.0   \n3                                                NaN  ...                 NaN   \n4  We are in the beautiful neighborhood of Queen ...  ...                 9.0   \n\n  requires_license license jurisdiction_names instant_bookable  \\\n0                f     NaN         WASHINGTON                f   \n1                f     NaN         WASHINGTON                f   \n2                f     NaN         WASHINGTON                f   \n3                f     NaN         WASHINGTON                f   \n4                f     NaN         WASHINGTON                f   \n\n  cancellation_policy  require_guest_profile_picture  \\\n0            moderate                              f   \n1              strict                              t   \n2              strict                              f   \n3            flexible                              f   \n4              strict                              f   \n\n  require_guest_phone_verification calculated_host_listings_count  \\\n0                                f                              2   \n1                                t                              6   \n2                                f                              2   \n3                                f                              1   \n4                                f                              1   \n\n  reviews_per_month  \n0              4.07  \n1              1.48  \n2              1.15  \n3               NaN  \n4              0.89  \n\n[5 rows x 92 columns]",
      "text/html": "<div>\n<style scoped>\n    .dataframe tbody tr th:only-of-type {\n        vertical-align: middle;\n    }\n\n    .dataframe tbody tr th {\n        vertical-align: top;\n    }\n\n    .dataframe thead th {\n        text-align: right;\n    }\n</style>\n<table border=\"1\" class=\"dataframe\">\n  <thead>\n    <tr style=\"text-align: right;\">\n      <th></th>\n      <th>id</th>\n      <th>listing_url</th>\n      <th>scrape_id</th>\n      <th>last_scraped</th>\n      <th>name</th>\n      <th>summary</th>\n      <th>space</th>\n      <th>description</th>\n      <th>experiences_offered</th>\n      <th>neighborhood_overview</th>\n      <th>...</th>\n      <th>review_scores_value</th>\n      <th>requires_license</th>\n      <th>license</th>\n      <th>jurisdiction_names</th>\n      <th>instant_bookable</th>\n      <th>cancellation_policy</th>\n      <th>require_guest_profile_picture</th>\n      <th>require_guest_phone_verification</th>\n      <th>calculated_host_listings_count</th>\n      <th>reviews_per_month</th>\n    </tr>\n  </thead>\n  <tbody>\n    <tr>\n      <th>0</th>\n      <td>241032</td>\n      <td>https://www.airbnb.com/rooms/241032</td>\n      <td>20160104002432</td>\n      <td>2016-01-04</td>\n      <td>Stylish Queen Anne Apartment</td>\n      <td>NaN</td>\n      <td>Make your self at home in this charming one-be...</td>\n      <td>Make your self at home in this charming one-be...</td>\n      <td>none</td>\n      <td>NaN</td>\n      <td>...</td>\n      <td>10.0</td>\n      <td>f</td>\n      <td>NaN</td>\n      <td>WASHINGTON</td>\n      <td>f</td>\n      <td>moderate</td>\n      <td>f</td>\n      <td>f</td>\n      <td>2</td>\n      <td>4.07</td>\n    </tr>\n    <tr>\n      <th>1</th>\n      <td>953595</td>\n      <td>https://www.airbnb.com/rooms/953595</td>\n      <td>20160104002432</td>\n      <td>2016-01-04</td>\n      <td>Bright &amp; Airy Queen Anne Apartment</td>\n      <td>Chemically sensitive? We've removed the irrita...</td>\n      <td>Beautiful, hypoallergenic apartment in an extr...</td>\n      <td>Chemically sensitive? We've removed the irrita...</td>\n      <td>none</td>\n      <td>Queen Anne is a wonderful, truly functional vi...</td>\n      <td>...</td>\n      <td>10.0</td>\n      <td>f</td>\n      <td>NaN</td>\n      <td>WASHINGTON</td>\n      <td>f</td>\n      <td>strict</td>\n      <td>t</td>\n      <td>t</td>\n      <td>6</td>\n      <td>1.48</td>\n    </tr>\n    <tr>\n      <th>2</th>\n      <td>3308979</td>\n      <td>https://www.airbnb.com/rooms/3308979</td>\n      <td>20160104002432</td>\n      <td>2016-01-04</td>\n      <td>New Modern House-Amazing water view</td>\n      <td>New modern house built in 2013.  Spectacular s...</td>\n      <td>Our house is modern, light and fresh with a wa...</td>\n      <td>New modern house built in 2013.  Spectacular s...</td>\n      <td>none</td>\n      <td>Upper Queen Anne is a charming neighborhood fu...</td>\n      <td>...</td>\n      <td>10.0</td>\n      <td>f</td>\n      <td>NaN</td>\n      <td>WASHINGTON</td>\n      <td>f</td>\n      <td>strict</td>\n      <td>f</td>\n      <td>f</td>\n      <td>2</td>\n      <td>1.15</td>\n    </tr>\n    <tr>\n      <th>3</th>\n      <td>7421966</td>\n      <td>https://www.airbnb.com/rooms/7421966</td>\n      <td>20160104002432</td>\n      <td>2016-01-04</td>\n      <td>Queen Anne Chateau</td>\n      <td>A charming apartment that sits atop Queen Anne...</td>\n      <td>NaN</td>\n      <td>A charming apartment that sits atop Queen Anne...</td>\n      <td>none</td>\n      <td>NaN</td>\n      <td>...</td>\n      <td>NaN</td>\n      <td>f</td>\n      <td>NaN</td>\n      <td>WASHINGTON</td>\n      <td>f</td>\n      <td>flexible</td>\n      <td>f</td>\n      <td>f</td>\n      <td>1</td>\n      <td>NaN</td>\n    </tr>\n    <tr>\n      <th>4</th>\n      <td>278830</td>\n      <td>https://www.airbnb.com/rooms/278830</td>\n      <td>20160104002432</td>\n      <td>2016-01-04</td>\n      <td>Charming craftsman 3 bdm house</td>\n      <td>Cozy family craftman house in beautiful neighb...</td>\n      <td>Cozy family craftman house in beautiful neighb...</td>\n      <td>Cozy family craftman house in beautiful neighb...</td>\n      <td>none</td>\n      <td>We are in the beautiful neighborhood of Queen ...</td>\n      <td>...</td>\n      <td>9.0</td>\n      <td>f</td>\n      <td>NaN</td>\n      <td>WASHINGTON</td>\n      <td>f</td>\n      <td>strict</td>\n      <td>f</td>\n      <td>f</td>\n      <td>1</td>\n      <td>0.89</td>\n    </tr>\n  </tbody>\n</table>\n<p>5 rows × 92 columns</p>\n</div>"
     },
     "execution_count": 3,
     "metadata": {},
     "output_type": "execute_result"
    }
   ],
   "source": [
    "df = pd.read_csv('listings.csv')\n",
    "df.head(5)\n"
   ]
  },
  {
   "cell_type": "code",
   "execution_count": 4,
   "metadata": {},
   "outputs": [
    {
     "data": {
      "text/plain": "count        3818\nunique        273\ntop       $150.00\nfreq          162\nName: price, dtype: object"
     },
     "execution_count": 4,
     "metadata": {},
     "output_type": "execute_result"
    }
   ],
   "source": [
    "df.price.describe()"
   ]
  },
  {
   "cell_type": "code",
   "execution_count": 5,
   "metadata": {},
   "outputs": [
    {
     "data": {
      "text/plain": "                 id     scrape_id       host_id  host_listings_count  \\\ncount  3.818000e+03  3.818000e+03  3.818000e+03          3816.000000   \nmean   5.550111e+06  2.016010e+13  1.578556e+07             7.157757   \nstd    2.962660e+06  0.000000e+00  1.458382e+07            28.628149   \nmin    3.335000e+03  2.016010e+13  4.193000e+03             1.000000   \n25%    3.258256e+06  2.016010e+13  3.275204e+06             1.000000   \n50%    6.118244e+06  2.016010e+13  1.055814e+07             1.000000   \n75%    8.035127e+06  2.016010e+13  2.590309e+07             3.000000   \nmax    1.034016e+07  2.016010e+13  5.320861e+07           502.000000   \n\n       host_total_listings_count     latitude    longitude  accommodates  \\\ncount                3816.000000  3818.000000  3818.000000   3818.000000   \nmean                    7.157757    47.628961  -122.333103      3.349398   \nstd                    28.628149     0.043052     0.031745      1.977599   \nmin                     1.000000    47.505088  -122.417219      1.000000   \n25%                     1.000000    47.609418  -122.354320      2.000000   \n50%                     1.000000    47.623601  -122.328874      3.000000   \n75%                     3.000000    47.662694  -122.310800      4.000000   \nmax                   502.000000    47.733358  -122.240607     16.000000   \n\n         bathrooms     bedrooms  ...  review_scores_rating  \\\ncount  3802.000000  3812.000000  ...           3171.000000   \nmean      1.259469     1.307712  ...             94.539262   \nstd       0.590369     0.883395  ...              6.606083   \nmin       0.000000     0.000000  ...             20.000000   \n25%       1.000000     1.000000  ...             93.000000   \n50%       1.000000     1.000000  ...             96.000000   \n75%       1.000000     2.000000  ...             99.000000   \nmax       8.000000     7.000000  ...            100.000000   \n\n       review_scores_accuracy  review_scores_cleanliness  \\\ncount             3160.000000                3165.000000   \nmean                 9.636392                   9.556398   \nstd                  0.698031                   0.797274   \nmin                  2.000000                   3.000000   \n25%                  9.000000                   9.000000   \n50%                 10.000000                  10.000000   \n75%                 10.000000                  10.000000   \nmax                 10.000000                  10.000000   \n\n       review_scores_checkin  review_scores_communication  \\\ncount            3160.000000                  3167.000000   \nmean                9.786709                     9.809599   \nstd                 0.595499                     0.568211   \nmin                 2.000000                     2.000000   \n25%                10.000000                    10.000000   \n50%                10.000000                    10.000000   \n75%                10.000000                    10.000000   \nmax                10.000000                    10.000000   \n\n       review_scores_location  review_scores_value  license  \\\ncount             3163.000000          3162.000000      0.0   \nmean                 9.608916             9.452245      NaN   \nstd                  0.629053             0.750259      NaN   \nmin                  4.000000             2.000000      NaN   \n25%                  9.000000             9.000000      NaN   \n50%                 10.000000            10.000000      NaN   \n75%                 10.000000            10.000000      NaN   \nmax                 10.000000            10.000000      NaN   \n\n       calculated_host_listings_count  reviews_per_month  \ncount                     3818.000000        3191.000000  \nmean                         2.946307           2.078919  \nstd                          5.893029           1.822348  \nmin                          1.000000           0.020000  \n25%                          1.000000           0.695000  \n50%                          1.000000           1.540000  \n75%                          2.000000           3.000000  \nmax                         37.000000          12.150000  \n\n[8 rows x 30 columns]",
      "text/html": "<div>\n<style scoped>\n    .dataframe tbody tr th:only-of-type {\n        vertical-align: middle;\n    }\n\n    .dataframe tbody tr th {\n        vertical-align: top;\n    }\n\n    .dataframe thead th {\n        text-align: right;\n    }\n</style>\n<table border=\"1\" class=\"dataframe\">\n  <thead>\n    <tr style=\"text-align: right;\">\n      <th></th>\n      <th>id</th>\n      <th>scrape_id</th>\n      <th>host_id</th>\n      <th>host_listings_count</th>\n      <th>host_total_listings_count</th>\n      <th>latitude</th>\n      <th>longitude</th>\n      <th>accommodates</th>\n      <th>bathrooms</th>\n      <th>bedrooms</th>\n      <th>...</th>\n      <th>review_scores_rating</th>\n      <th>review_scores_accuracy</th>\n      <th>review_scores_cleanliness</th>\n      <th>review_scores_checkin</th>\n      <th>review_scores_communication</th>\n      <th>review_scores_location</th>\n      <th>review_scores_value</th>\n      <th>license</th>\n      <th>calculated_host_listings_count</th>\n      <th>reviews_per_month</th>\n    </tr>\n  </thead>\n  <tbody>\n    <tr>\n      <th>count</th>\n      <td>3.818000e+03</td>\n      <td>3.818000e+03</td>\n      <td>3.818000e+03</td>\n      <td>3816.000000</td>\n      <td>3816.000000</td>\n      <td>3818.000000</td>\n      <td>3818.000000</td>\n      <td>3818.000000</td>\n      <td>3802.000000</td>\n      <td>3812.000000</td>\n      <td>...</td>\n      <td>3171.000000</td>\n      <td>3160.000000</td>\n      <td>3165.000000</td>\n      <td>3160.000000</td>\n      <td>3167.000000</td>\n      <td>3163.000000</td>\n      <td>3162.000000</td>\n      <td>0.0</td>\n      <td>3818.000000</td>\n      <td>3191.000000</td>\n    </tr>\n    <tr>\n      <th>mean</th>\n      <td>5.550111e+06</td>\n      <td>2.016010e+13</td>\n      <td>1.578556e+07</td>\n      <td>7.157757</td>\n      <td>7.157757</td>\n      <td>47.628961</td>\n      <td>-122.333103</td>\n      <td>3.349398</td>\n      <td>1.259469</td>\n      <td>1.307712</td>\n      <td>...</td>\n      <td>94.539262</td>\n      <td>9.636392</td>\n      <td>9.556398</td>\n      <td>9.786709</td>\n      <td>9.809599</td>\n      <td>9.608916</td>\n      <td>9.452245</td>\n      <td>NaN</td>\n      <td>2.946307</td>\n      <td>2.078919</td>\n    </tr>\n    <tr>\n      <th>std</th>\n      <td>2.962660e+06</td>\n      <td>0.000000e+00</td>\n      <td>1.458382e+07</td>\n      <td>28.628149</td>\n      <td>28.628149</td>\n      <td>0.043052</td>\n      <td>0.031745</td>\n      <td>1.977599</td>\n      <td>0.590369</td>\n      <td>0.883395</td>\n      <td>...</td>\n      <td>6.606083</td>\n      <td>0.698031</td>\n      <td>0.797274</td>\n      <td>0.595499</td>\n      <td>0.568211</td>\n      <td>0.629053</td>\n      <td>0.750259</td>\n      <td>NaN</td>\n      <td>5.893029</td>\n      <td>1.822348</td>\n    </tr>\n    <tr>\n      <th>min</th>\n      <td>3.335000e+03</td>\n      <td>2.016010e+13</td>\n      <td>4.193000e+03</td>\n      <td>1.000000</td>\n      <td>1.000000</td>\n      <td>47.505088</td>\n      <td>-122.417219</td>\n      <td>1.000000</td>\n      <td>0.000000</td>\n      <td>0.000000</td>\n      <td>...</td>\n      <td>20.000000</td>\n      <td>2.000000</td>\n      <td>3.000000</td>\n      <td>2.000000</td>\n      <td>2.000000</td>\n      <td>4.000000</td>\n      <td>2.000000</td>\n      <td>NaN</td>\n      <td>1.000000</td>\n      <td>0.020000</td>\n    </tr>\n    <tr>\n      <th>25%</th>\n      <td>3.258256e+06</td>\n      <td>2.016010e+13</td>\n      <td>3.275204e+06</td>\n      <td>1.000000</td>\n      <td>1.000000</td>\n      <td>47.609418</td>\n      <td>-122.354320</td>\n      <td>2.000000</td>\n      <td>1.000000</td>\n      <td>1.000000</td>\n      <td>...</td>\n      <td>93.000000</td>\n      <td>9.000000</td>\n      <td>9.000000</td>\n      <td>10.000000</td>\n      <td>10.000000</td>\n      <td>9.000000</td>\n      <td>9.000000</td>\n      <td>NaN</td>\n      <td>1.000000</td>\n      <td>0.695000</td>\n    </tr>\n    <tr>\n      <th>50%</th>\n      <td>6.118244e+06</td>\n      <td>2.016010e+13</td>\n      <td>1.055814e+07</td>\n      <td>1.000000</td>\n      <td>1.000000</td>\n      <td>47.623601</td>\n      <td>-122.328874</td>\n      <td>3.000000</td>\n      <td>1.000000</td>\n      <td>1.000000</td>\n      <td>...</td>\n      <td>96.000000</td>\n      <td>10.000000</td>\n      <td>10.000000</td>\n      <td>10.000000</td>\n      <td>10.000000</td>\n      <td>10.000000</td>\n      <td>10.000000</td>\n      <td>NaN</td>\n      <td>1.000000</td>\n      <td>1.540000</td>\n    </tr>\n    <tr>\n      <th>75%</th>\n      <td>8.035127e+06</td>\n      <td>2.016010e+13</td>\n      <td>2.590309e+07</td>\n      <td>3.000000</td>\n      <td>3.000000</td>\n      <td>47.662694</td>\n      <td>-122.310800</td>\n      <td>4.000000</td>\n      <td>1.000000</td>\n      <td>2.000000</td>\n      <td>...</td>\n      <td>99.000000</td>\n      <td>10.000000</td>\n      <td>10.000000</td>\n      <td>10.000000</td>\n      <td>10.000000</td>\n      <td>10.000000</td>\n      <td>10.000000</td>\n      <td>NaN</td>\n      <td>2.000000</td>\n      <td>3.000000</td>\n    </tr>\n    <tr>\n      <th>max</th>\n      <td>1.034016e+07</td>\n      <td>2.016010e+13</td>\n      <td>5.320861e+07</td>\n      <td>502.000000</td>\n      <td>502.000000</td>\n      <td>47.733358</td>\n      <td>-122.240607</td>\n      <td>16.000000</td>\n      <td>8.000000</td>\n      <td>7.000000</td>\n      <td>...</td>\n      <td>100.000000</td>\n      <td>10.000000</td>\n      <td>10.000000</td>\n      <td>10.000000</td>\n      <td>10.000000</td>\n      <td>10.000000</td>\n      <td>10.000000</td>\n      <td>NaN</td>\n      <td>37.000000</td>\n      <td>12.150000</td>\n    </tr>\n  </tbody>\n</table>\n<p>8 rows × 30 columns</p>\n</div>"
     },
     "execution_count": 5,
     "metadata": {},
     "output_type": "execute_result"
    }
   ],
   "source": [
    "df.describe()"
   ]
  },
  {
   "cell_type": "code",
   "execution_count": 6,
   "metadata": {
    "scrolled": true
   },
   "outputs": [
    {
     "name": "stdout",
     "output_type": "stream",
     "text": [
      "(3818, 92) \n",
      "############################################################\n",
      "object     62\n",
      "float64    17\n",
      "int64      13\n",
      "dtype: int64 \n",
      "############################################################\n",
      "host_listings_count            float64\n",
      "host_total_listings_count      float64\n",
      "latitude                       float64\n",
      "longitude                      float64\n",
      "bathrooms                      float64\n",
      "bedrooms                       float64\n",
      "beds                           float64\n",
      "square_feet                    float64\n",
      "review_scores_rating           float64\n",
      "review_scores_accuracy         float64\n",
      "review_scores_cleanliness      float64\n",
      "review_scores_checkin          float64\n",
      "review_scores_communication    float64\n",
      "review_scores_location         float64\n",
      "review_scores_value            float64\n",
      "license                        float64\n",
      "reviews_per_month              float64\n",
      "dtype: object \n",
      "############################################################\n",
      "id                                int64\n",
      "scrape_id                         int64\n",
      "host_id                           int64\n",
      "accommodates                      int64\n",
      "guests_included                   int64\n",
      "minimum_nights                    int64\n",
      "maximum_nights                    int64\n",
      "availability_30                   int64\n",
      "availability_60                   int64\n",
      "availability_90                   int64\n",
      "availability_365                  int64\n",
      "number_of_reviews                 int64\n",
      "calculated_host_listings_count    int64\n",
      "dtype: object \n",
      "############################################################\n",
      "listing_url                         object\n",
      "last_scraped                        object\n",
      "name                                object\n",
      "summary                             object\n",
      "space                               object\n",
      "description                         object\n",
      "experiences_offered                 object\n",
      "neighborhood_overview               object\n",
      "notes                               object\n",
      "transit                             object\n",
      "thumbnail_url                       object\n",
      "medium_url                          object\n",
      "picture_url                         object\n",
      "xl_picture_url                      object\n",
      "host_url                            object\n",
      "host_name                           object\n",
      "host_since                          object\n",
      "host_location                       object\n",
      "host_about                          object\n",
      "host_response_time                  object\n",
      "host_response_rate                  object\n",
      "host_acceptance_rate                object\n",
      "host_is_superhost                   object\n",
      "host_thumbnail_url                  object\n",
      "host_picture_url                    object\n",
      "host_neighbourhood                  object\n",
      "host_verifications                  object\n",
      "host_has_profile_pic                object\n",
      "host_identity_verified              object\n",
      "street                              object\n",
      "neighbourhood                       object\n",
      "neighbourhood_cleansed              object\n",
      "neighbourhood_group_cleansed        object\n",
      "city                                object\n",
      "state                               object\n",
      "zipcode                             object\n",
      "market                              object\n",
      "smart_location                      object\n",
      "country_code                        object\n",
      "country                             object\n",
      "is_location_exact                   object\n",
      "property_type                       object\n",
      "room_type                           object\n",
      "bed_type                            object\n",
      "amenities                           object\n",
      "price                               object\n",
      "weekly_price                        object\n",
      "monthly_price                       object\n",
      "security_deposit                    object\n",
      "cleaning_fee                        object\n",
      "extra_people                        object\n",
      "calendar_updated                    object\n",
      "has_availability                    object\n",
      "calendar_last_scraped               object\n",
      "first_review                        object\n",
      "last_review                         object\n",
      "requires_license                    object\n",
      "jurisdiction_names                  object\n",
      "instant_bookable                    object\n",
      "cancellation_policy                 object\n",
      "require_guest_profile_picture       object\n",
      "require_guest_phone_verification    object\n",
      "dtype: object \n",
      "############################################################\n"
     ]
    }
   ],
   "source": [
    "# The shape meaning rows and columns of the dataframe\n",
    "print(df.shape, '\\n' +'#'*60)\n",
    "\n",
    "#The data types in the dataset\n",
    "print(df.dtypes.value_counts(), '\\n' +'#'*60)\n",
    "\n",
    "\n",
    "#The column names for the data type float64 \n",
    "print(df.dtypes[df.dtypes=='float64'], '\\n' +'#'*60)\n",
    "\n",
    "#The column names for the data type int \n",
    "print(df.dtypes[df.dtypes=='int64'], '\\n' +'#'*60)\n",
    "\n",
    "#The column names for the data type object\n",
    "print(df.dtypes[df.dtypes=='object'], '\\n' +'#'*60)"
   ]
  },
  {
   "cell_type": "markdown",
   "metadata": {},
   "source": [
    "There are some columns that are of type object, but can be converted to int64 or float 64 because in fact the are numbers like price columns. be treated as integer or float (especially those price columns).\n",
    "\n",
    "We keep that in mind for later, if we use some of them we first convert them into the right type."
   ]
  },
  {
   "cell_type": "markdown",
   "metadata": {},
   "source": [
    "##### Missing Values"
   ]
  },
  {
   "cell_type": "code",
   "execution_count": 7,
   "metadata": {
    "scrolled": true
   },
   "outputs": [
    {
     "data": {
      "text/plain": "license                             3818\nsquare_feet                         3721\nmonthly_price                       2301\nsecurity_deposit                    1952\nweekly_price                        1809\nnotes                               1606\nneighborhood_overview               1032\ncleaning_fee                        1030\ntransit                              934\nhost_about                           859\nhost_acceptance_rate                 773\nreview_scores_accuracy               658\nreview_scores_checkin                658\nreview_scores_value                  656\nreview_scores_location               655\nreview_scores_cleanliness            653\nreview_scores_communication          651\nreview_scores_rating                 647\nlast_review                          627\nfirst_review                         627\nreviews_per_month                    627\nspace                                569\nhost_response_rate                   523\nhost_response_time                   523\nneighbourhood                        416\nthumbnail_url                        320\nmedium_url                           320\nxl_picture_url                       320\nhost_neighbourhood                   300\nsummary                              177\nbathrooms                             16\nhost_location                          8\nzipcode                                7\nbedrooms                               6\nhost_name                              2\nhost_listings_count                    2\nhost_since                             2\nhost_is_superhost                      2\nhost_identity_verified                 2\nhost_picture_url                       2\nhost_thumbnail_url                     2\nhost_total_listings_count              2\nhost_has_profile_pic                   2\nproperty_type                          1\nbeds                                   1\nrequire_guest_profile_picture          0\ncalculated_host_listings_count         0\nmaximum_nights                         0\ncalendar_updated                       0\nhas_availability                       0\nrequire_guest_phone_verification       0\ninstant_bookable                       0\navailability_30                        0\navailability_60                        0\navailability_90                        0\navailability_365                       0\ncalendar_last_scraped                  0\nnumber_of_reviews                      0\ncancellation_policy                    0\njurisdiction_names                     0\nrequires_license                       0\nextra_people                           0\nminimum_nights                         0\nid                                     0\nguests_included                        0\nprice                                  0\nscrape_id                              0\nlast_scraped                           0\nname                                   0\ndescription                            0\nexperiences_offered                    0\npicture_url                            0\nhost_id                                0\nhost_url                               0\nhost_verifications                     0\nstreet                                 0\nneighbourhood_cleansed                 0\nneighbourhood_group_cleansed           0\ncity                                   0\nstate                                  0\nmarket                                 0\nsmart_location                         0\ncountry_code                           0\ncountry                                0\nlatitude                               0\nlisting_url                            0\nis_location_exact                      0\nroom_type                              0\naccommodates                           0\nbed_type                               0\namenities                              0\nlongitude                              0\ndtype: int64"
     },
     "execution_count": 7,
     "metadata": {},
     "output_type": "execute_result"
    }
   ],
   "source": [
    "df.isnull().sum().sort_values(ascending=False)"
   ]
  },
  {
   "cell_type": "markdown",
   "metadata": {},
   "source": [
    "##### Sole Unique No Missing Values"
   ]
  },
  {
   "cell_type": "code",
   "execution_count": 8,
   "metadata": {},
   "outputs": [
    {
     "data": {
      "text/plain": "id             3818\nlisting_url    3818\npicture_url    3818\nlatitude       3818\nlongitude      3818\ndtype: int64"
     },
     "execution_count": 8,
     "metadata": {},
     "output_type": "execute_result"
    }
   ],
   "source": [
    "df.nunique()[df.nunique()==df.shape[0]]"
   ]
  },
  {
   "cell_type": "markdown",
   "metadata": {},
   "source": [
    "## Analysis"
   ]
  },
  {
   "cell_type": "markdown",
   "metadata": {},
   "source": [
    "### Focus on the variables with no missing data"
   ]
  },
  {
   "cell_type": "code",
   "execution_count": 9,
   "metadata": {
    "scrolled": true
   },
   "outputs": [
    {
     "data": {
      "text/plain": "        price extra_people  guests_included  accommodates  availability_30  \\\n0      $85.00        $5.00                2             4               14   \n1     $150.00        $0.00                1             4               13   \n2     $975.00       $25.00               10            11                1   \n3     $100.00        $0.00                1             3                0   \n4     $450.00       $15.00                6             6               30   \n...       ...          ...              ...           ...              ...   \n3813  $359.00        $0.00                1             6               18   \n3814   $79.00       $25.00                3             4                6   \n3815   $93.00       $20.00                2             2               29   \n3816   $99.00        $0.00                1             2               30   \n3817   $87.00        $0.00                1             3                7   \n\n            room_type  bed_type  beds  bathrooms  \\\n0     Entire home/apt  Real Bed   1.0        1.0   \n1     Entire home/apt  Real Bed   1.0        1.0   \n2     Entire home/apt  Real Bed   7.0        4.5   \n3     Entire home/apt  Real Bed   2.0        1.0   \n4     Entire home/apt  Real Bed   3.0        2.0   \n...               ...       ...   ...        ...   \n3813  Entire home/apt  Real Bed   3.0        2.0   \n3814  Entire home/apt  Real Bed   2.0        1.0   \n3815  Entire home/apt  Real Bed   1.0        1.0   \n3816  Entire home/apt  Real Bed   1.0        1.0   \n3817  Entire home/apt  Real Bed   1.0        1.5   \n\n                                              amenities  \n0     {TV,\"Cable TV\",Internet,\"Wireless Internet\",\"A...  \n1     {TV,Internet,\"Wireless Internet\",Kitchen,\"Free...  \n2     {TV,\"Cable TV\",Internet,\"Wireless Internet\",\"A...  \n3     {Internet,\"Wireless Internet\",Kitchen,\"Indoor ...  \n4     {TV,\"Cable TV\",Internet,\"Wireless Internet\",Ki...  \n...                                                 ...  \n3813  {TV,\"Cable TV\",Internet,\"Wireless Internet\",\"A...  \n3814  {TV,\"Cable TV\",Internet,\"Wireless Internet\",Ki...  \n3815  {\"Cable TV\",\"Wireless Internet\",Kitchen,\"Free ...  \n3816  {TV,\"Wireless Internet\",Kitchen,\"Free Parking ...  \n3817  {TV,\"Cable TV\",Internet,\"Wireless Internet\",Ki...  \n\n[3818 rows x 10 columns]",
      "text/html": "<div>\n<style scoped>\n    .dataframe tbody tr th:only-of-type {\n        vertical-align: middle;\n    }\n\n    .dataframe tbody tr th {\n        vertical-align: top;\n    }\n\n    .dataframe thead th {\n        text-align: right;\n    }\n</style>\n<table border=\"1\" class=\"dataframe\">\n  <thead>\n    <tr style=\"text-align: right;\">\n      <th></th>\n      <th>price</th>\n      <th>extra_people</th>\n      <th>guests_included</th>\n      <th>accommodates</th>\n      <th>availability_30</th>\n      <th>room_type</th>\n      <th>bed_type</th>\n      <th>beds</th>\n      <th>bathrooms</th>\n      <th>amenities</th>\n    </tr>\n  </thead>\n  <tbody>\n    <tr>\n      <th>0</th>\n      <td>$85.00</td>\n      <td>$5.00</td>\n      <td>2</td>\n      <td>4</td>\n      <td>14</td>\n      <td>Entire home/apt</td>\n      <td>Real Bed</td>\n      <td>1.0</td>\n      <td>1.0</td>\n      <td>{TV,\"Cable TV\",Internet,\"Wireless Internet\",\"A...</td>\n    </tr>\n    <tr>\n      <th>1</th>\n      <td>$150.00</td>\n      <td>$0.00</td>\n      <td>1</td>\n      <td>4</td>\n      <td>13</td>\n      <td>Entire home/apt</td>\n      <td>Real Bed</td>\n      <td>1.0</td>\n      <td>1.0</td>\n      <td>{TV,Internet,\"Wireless Internet\",Kitchen,\"Free...</td>\n    </tr>\n    <tr>\n      <th>2</th>\n      <td>$975.00</td>\n      <td>$25.00</td>\n      <td>10</td>\n      <td>11</td>\n      <td>1</td>\n      <td>Entire home/apt</td>\n      <td>Real Bed</td>\n      <td>7.0</td>\n      <td>4.5</td>\n      <td>{TV,\"Cable TV\",Internet,\"Wireless Internet\",\"A...</td>\n    </tr>\n    <tr>\n      <th>3</th>\n      <td>$100.00</td>\n      <td>$0.00</td>\n      <td>1</td>\n      <td>3</td>\n      <td>0</td>\n      <td>Entire home/apt</td>\n      <td>Real Bed</td>\n      <td>2.0</td>\n      <td>1.0</td>\n      <td>{Internet,\"Wireless Internet\",Kitchen,\"Indoor ...</td>\n    </tr>\n    <tr>\n      <th>4</th>\n      <td>$450.00</td>\n      <td>$15.00</td>\n      <td>6</td>\n      <td>6</td>\n      <td>30</td>\n      <td>Entire home/apt</td>\n      <td>Real Bed</td>\n      <td>3.0</td>\n      <td>2.0</td>\n      <td>{TV,\"Cable TV\",Internet,\"Wireless Internet\",Ki...</td>\n    </tr>\n    <tr>\n      <th>...</th>\n      <td>...</td>\n      <td>...</td>\n      <td>...</td>\n      <td>...</td>\n      <td>...</td>\n      <td>...</td>\n      <td>...</td>\n      <td>...</td>\n      <td>...</td>\n      <td>...</td>\n    </tr>\n    <tr>\n      <th>3813</th>\n      <td>$359.00</td>\n      <td>$0.00</td>\n      <td>1</td>\n      <td>6</td>\n      <td>18</td>\n      <td>Entire home/apt</td>\n      <td>Real Bed</td>\n      <td>3.0</td>\n      <td>2.0</td>\n      <td>{TV,\"Cable TV\",Internet,\"Wireless Internet\",\"A...</td>\n    </tr>\n    <tr>\n      <th>3814</th>\n      <td>$79.00</td>\n      <td>$25.00</td>\n      <td>3</td>\n      <td>4</td>\n      <td>6</td>\n      <td>Entire home/apt</td>\n      <td>Real Bed</td>\n      <td>2.0</td>\n      <td>1.0</td>\n      <td>{TV,\"Cable TV\",Internet,\"Wireless Internet\",Ki...</td>\n    </tr>\n    <tr>\n      <th>3815</th>\n      <td>$93.00</td>\n      <td>$20.00</td>\n      <td>2</td>\n      <td>2</td>\n      <td>29</td>\n      <td>Entire home/apt</td>\n      <td>Real Bed</td>\n      <td>1.0</td>\n      <td>1.0</td>\n      <td>{\"Cable TV\",\"Wireless Internet\",Kitchen,\"Free ...</td>\n    </tr>\n    <tr>\n      <th>3816</th>\n      <td>$99.00</td>\n      <td>$0.00</td>\n      <td>1</td>\n      <td>2</td>\n      <td>30</td>\n      <td>Entire home/apt</td>\n      <td>Real Bed</td>\n      <td>1.0</td>\n      <td>1.0</td>\n      <td>{TV,\"Wireless Internet\",Kitchen,\"Free Parking ...</td>\n    </tr>\n    <tr>\n      <th>3817</th>\n      <td>$87.00</td>\n      <td>$0.00</td>\n      <td>1</td>\n      <td>3</td>\n      <td>7</td>\n      <td>Entire home/apt</td>\n      <td>Real Bed</td>\n      <td>1.0</td>\n      <td>1.5</td>\n      <td>{TV,\"Cable TV\",Internet,\"Wireless Internet\",Ki...</td>\n    </tr>\n  </tbody>\n</table>\n<p>3818 rows × 10 columns</p>\n</div>"
     },
     "execution_count": 9,
     "metadata": {},
     "output_type": "execute_result"
    }
   ],
   "source": [
    "df_sub = df[['price','extra_people','guests_included','accommodates','availability_30', 'room_type','bed_type','beds','bathrooms','amenities']]\n",
    "df_sub"
   ]
  },
  {
   "cell_type": "code",
   "execution_count": 10,
   "metadata": {},
   "outputs": [],
   "source": [
    "def price_to_float(input_df, column_list):\n",
    "    output_df = input_df\n",
    "    for col in column_list:\n",
    "        print(col)\n",
    "        if input_df.dtypes[col] == object:\n",
    "            output_df[col] = input_df[col].str.replace('$','').str.replace('€', '').str.replace(',','')\n",
    "            output_df[col].fillna(0, inplace = True)\n",
    "            output_df[col] = output_df[col].astype(float)\n",
    "            \n",
    "    return output_df"
   ]
  },
  {
   "cell_type": "code",
   "execution_count": 11,
   "metadata": {},
   "outputs": [
    {
     "name": "stdout",
     "output_type": "stream",
     "text": [
      "price\n",
      "extra_people\n"
     ]
    },
    {
     "name": "stderr",
     "output_type": "stream",
     "text": [
      "C:\\Users\\heuse\\AppData\\Local\\Temp/ipykernel_7364/1594809227.py:6: FutureWarning: The default value of regex will change from True to False in a future version. In addition, single character regular expressions will *not* be treated as literal strings when regex=True.\n",
      "  output_df[col] = input_df[col].str.replace('$','').str.replace('€', '').str.replace(',','')\n",
      "C:\\Users\\heuse\\AppData\\Local\\Temp/ipykernel_7364/1594809227.py:6: SettingWithCopyWarning: \n",
      "A value is trying to be set on a copy of a slice from a DataFrame.\n",
      "Try using .loc[row_indexer,col_indexer] = value instead\n",
      "\n",
      "See the caveats in the documentation: https://pandas.pydata.org/pandas-docs/stable/user_guide/indexing.html#returning-a-view-versus-a-copy\n",
      "  output_df[col] = input_df[col].str.replace('$','').str.replace('€', '').str.replace(',','')\n",
      "C:\\Users\\heuse\\anaconda3\\lib\\site-packages\\pandas\\core\\generic.py:6392: SettingWithCopyWarning: \n",
      "A value is trying to be set on a copy of a slice from a DataFrame\n",
      "\n",
      "See the caveats in the documentation: https://pandas.pydata.org/pandas-docs/stable/user_guide/indexing.html#returning-a-view-versus-a-copy\n",
      "  return self._update_inplace(result)\n",
      "C:\\Users\\heuse\\AppData\\Local\\Temp/ipykernel_7364/1594809227.py:8: SettingWithCopyWarning: \n",
      "A value is trying to be set on a copy of a slice from a DataFrame.\n",
      "Try using .loc[row_indexer,col_indexer] = value instead\n",
      "\n",
      "See the caveats in the documentation: https://pandas.pydata.org/pandas-docs/stable/user_guide/indexing.html#returning-a-view-versus-a-copy\n",
      "  output_df[col] = output_df[col].astype(float)\n"
     ]
    },
    {
     "data": {
      "text/plain": "0        85.0\n1       150.0\n2       975.0\n3       100.0\n4       450.0\n        ...  \n3813    359.0\n3814     79.0\n3815     93.0\n3816     99.0\n3817     87.0\nName: price, Length: 3818, dtype: float64"
     },
     "execution_count": 11,
     "metadata": {},
     "output_type": "execute_result"
    }
   ],
   "source": [
    "df_clean = price_to_float(df_sub, ['price', 'extra_people'])\n",
    "df_clean['price']"
   ]
  },
  {
   "cell_type": "markdown",
   "metadata": {},
   "source": [
    "#### Question 1: Are accommodations with more bedrooms in general cheaper per person?"
   ]
  },
  {
   "cell_type": "code",
   "execution_count": 12,
   "metadata": {
    "scrolled": true
   },
   "outputs": [
    {
     "data": {
      "text/plain": "<Figure size 432x288 with 1 Axes>",
      "image/png": "[encoded data removed]"
     },
     "metadata": {
      "needs_background": "light"
     },
     "output_type": "display_data"
    }
   ],
   "source": [
    "# the histogram of the data\n",
    "n, bins, patches = plt.hist(df.accommodates, 50, density=False, facecolor='g', alpha=0.75)\n",
    "\n",
    "plt.xlabel('Accommodates')\n",
    "plt.ylabel('Count')\n",
    "plt.title('Histogram of accommodates')\n",
    "plt.grid(True)\n",
    "plt.show()"
   ]
  },
  {
   "cell_type": "code",
   "execution_count": 13,
   "metadata": {},
   "outputs": [],
   "source": [
    "def calcfullybookedpice(input_df):\n",
    "    resultList = list()\n",
    "    for row in range(input_df.shape[0]):\n",
    "        extra_charge = (input_df['accommodates'][row]-input_df['guests_included'][row]) * input_df['extra_people'][row]\n",
    "        fully_booked_price = input_df['price'][row] + extra_charge\n",
    "        resultList.append(fully_booked_price)\n",
    "    input_df[\"fully_booked_price\"] = resultList\n",
    "    return input_df"
   ]
  },
  {
   "cell_type": "code",
   "execution_count": 14,
   "metadata": {},
   "outputs": [
    {
     "name": "stderr",
     "output_type": "stream",
     "text": [
      "C:\\Users\\heuse\\AppData\\Local\\Temp/ipykernel_7364/2643289796.py:7: SettingWithCopyWarning: \n",
      "A value is trying to be set on a copy of a slice from a DataFrame.\n",
      "Try using .loc[row_indexer,col_indexer] = value instead\n",
      "\n",
      "See the caveats in the documentation: https://pandas.pydata.org/pandas-docs/stable/user_guide/indexing.html#returning-a-view-versus-a-copy\n",
      "  input_df[\"fully_booked_price\"] = resultList\n",
      "C:\\Users\\heuse\\AppData\\Local\\Temp/ipykernel_7364/3617409633.py:2: SettingWithCopyWarning: \n",
      "A value is trying to be set on a copy of a slice from a DataFrame.\n",
      "Try using .loc[row_indexer,col_indexer] = value instead\n",
      "\n",
      "See the caveats in the documentation: https://pandas.pydata.org/pandas-docs/stable/user_guide/indexing.html#returning-a-view-versus-a-copy\n",
      "  df_clean['PricePerPerson'] = df_clean['fully_booked_price']/df_clean['accommodates']\n"
     ]
    }
   ],
   "source": [
    "df_clean = calcfullybookedpice(df_clean)\n",
    "df_clean['PricePerPerson'] = df_clean['fully_booked_price']/df_clean['accommodates']"
   ]
  },
  {
   "cell_type": "code",
   "execution_count": 15,
   "metadata": {},
   "outputs": [
    {
     "data": {
      "text/plain": "<Figure size 360x360 with 1 Axes>",
      "image/png": "[encoded data removed]"
     },
     "metadata": {
      "needs_background": "light"
     },
     "output_type": "display_data"
    }
   ],
   "source": [
    "sns.catplot(data=df_clean, x=\"beds\", y=\"PricePerPerson\", kind=\"boxen\");"
   ]
  },
  {
   "cell_type": "markdown",
   "metadata": {},
   "source": [
    "According to the simple analysis seen above in the box plot it seems not like in general more bedrooms seem to decrease the price per person. But it can be seen that the variance is getting lower with a higher beds size.\n",
    "This can have many reasons but an easy guess is that the variance is lower since there is fewer data in the dataset with higher bed size."
   ]
  },
  {
   "cell_type": "markdown",
   "metadata": {},
   "source": [
    "#### Question 2: Which amenities are most offered in apartments?"
   ]
  },
  {
   "cell_type": "code",
   "execution_count": 16,
   "metadata": {},
   "outputs": [],
   "source": [
    "def countListOfStrings(df, searchColumn):\n",
    "    new_list = list()\n",
    "    for row in range(df.shape[0]):\n",
    "        arr = df[searchColumn][row].split(',')\n",
    "        for v in arr:\n",
    "            v_clean = v.replace('{', '').replace('}','').replace('\"','')\n",
    "            new_list.append(v_clean)\n",
    "    return new_list\n",
    "\n",
    "def plotCount(df, search_column):\n",
    "    temp_list = countListOfStrings(df,search_column)\n",
    "    plt.figure(figsize=(12,8))\n",
    "    sns.countplot(y = countListOfStrings(df,search_column),\n",
    "                  order = [elem for count, elem in sorted(((temp_list.count(e), e) for e in set(temp_list)), reverse=True)],\n",
    "                  )"
   ]
  },
  {
   "cell_type": "code",
   "execution_count": 17,
   "metadata": {},
   "outputs": [
    {
     "data": {
      "text/plain": "<Figure size 864x576 with 1 Axes>",
      "image/png": "[encoded data removed]"
     },
     "metadata": {
      "needs_background": "light"
     },
     "output_type": "display_data"
    }
   ],
   "source": [
    "plotCount(df_clean,'amenities')"
   ]
  },
  {
   "cell_type": "markdown",
   "metadata": {},
   "source": [
    "As it can be seen in the count-plot above the most common amenities in the dataset listed are:\n",
    "+ Wireless Internet\n",
    "+ Heating\n",
    "+ Kitchen\n",
    "+ Internet\n",
    "+ Smoke Detector\n",
    "\n",
    "And the least common amenities listed are:\n",
    "\n",
    "+ Lock on Bedroom Door\n",
    "+ Doorman\n",
    "+ Smoking Allowed\n",
    "+ Other pet(s)\n",
    "+ Washer / Dryer\n",
    "\n",
    "Also in the lower area a blank thing is reported, but this is due to data errors and is omitted in further analysis."
   ]
  },
  {
   "cell_type": "markdown",
   "metadata": {},
   "source": [
    "#### Question 3: Is it possible to predict the AirBnB price by using a simple sub sample of features in a basic Random Forest Regression?"
   ]
  },
  {
   "cell_type": "markdown",
   "metadata": {},
   "source": [
    "#### Make ML dataframe subset"
   ]
  },
  {
   "cell_type": "code",
   "execution_count": 18,
   "metadata": {
    "scrolled": true
   },
   "outputs": [],
   "source": [
    "df_model = df_clean.dropna()"
   ]
  },
  {
   "cell_type": "markdown",
   "metadata": {},
   "source": [
    "Drop the missing values since there are only 10 in the dataset not imputation methods are applied."
   ]
  },
  {
   "cell_type": "code",
   "execution_count": 19,
   "metadata": {
    "scrolled": true
   },
   "outputs": [
    {
     "data": {
      "text/plain": "      extra_people  guests_included  accommodates  availability_30  \\\n0              5.0                2             4               14   \n1              0.0                1             4               13   \n2             25.0               10            11                1   \n3              0.0                1             3                0   \n4             15.0                6             6               30   \n...            ...              ...           ...              ...   \n3813           0.0                1             6               18   \n3814          25.0                3             4                6   \n3815          20.0                2             2               29   \n3816           0.0                1             2               30   \n3817           0.0                1             3                7   \n\n            room_type  bed_type  beds  bathrooms  \\\n0     Entire home/apt  Real Bed   1.0        1.0   \n1     Entire home/apt  Real Bed   1.0        1.0   \n2     Entire home/apt  Real Bed   7.0        4.5   \n3     Entire home/apt  Real Bed   2.0        1.0   \n4     Entire home/apt  Real Bed   3.0        2.0   \n...               ...       ...   ...        ...   \n3813  Entire home/apt  Real Bed   3.0        2.0   \n3814  Entire home/apt  Real Bed   2.0        1.0   \n3815  Entire home/apt  Real Bed   1.0        1.0   \n3816  Entire home/apt  Real Bed   1.0        1.0   \n3817  Entire home/apt  Real Bed   1.0        1.5   \n\n                                              amenities  \n0     {TV,\"Cable TV\",Internet,\"Wireless Internet\",\"A...  \n1     {TV,Internet,\"Wireless Internet\",Kitchen,\"Free...  \n2     {TV,\"Cable TV\",Internet,\"Wireless Internet\",\"A...  \n3     {Internet,\"Wireless Internet\",Kitchen,\"Indoor ...  \n4     {TV,\"Cable TV\",Internet,\"Wireless Internet\",Ki...  \n...                                                 ...  \n3813  {TV,\"Cable TV\",Internet,\"Wireless Internet\",\"A...  \n3814  {TV,\"Cable TV\",Internet,\"Wireless Internet\",Ki...  \n3815  {\"Cable TV\",\"Wireless Internet\",Kitchen,\"Free ...  \n3816  {TV,\"Wireless Internet\",Kitchen,\"Free Parking ...  \n3817  {TV,\"Cable TV\",Internet,\"Wireless Internet\",Ki...  \n\n[3802 rows x 9 columns]",
      "text/html": "<div>\n<style scoped>\n    .dataframe tbody tr th:only-of-type {\n        vertical-align: middle;\n    }\n\n    .dataframe tbody tr th {\n        vertical-align: top;\n    }\n\n    .dataframe thead th {\n        text-align: right;\n    }\n</style>\n<table border=\"1\" class=\"dataframe\">\n  <thead>\n    <tr style=\"text-align: right;\">\n      <th></th>\n      <th>extra_people</th>\n      <th>guests_included</th>\n      <th>accommodates</th>\n      <th>availability_30</th>\n      <th>room_type</th>\n      <th>bed_type</th>\n      <th>beds</th>\n      <th>bathrooms</th>\n      <th>amenities</th>\n    </tr>\n  </thead>\n  <tbody>\n    <tr>\n      <th>0</th>\n      <td>5.0</td>\n      <td>2</td>\n      <td>4</td>\n      <td>14</td>\n      <td>Entire home/apt</td>\n      <td>Real Bed</td>\n      <td>1.0</td>\n      <td>1.0</td>\n      <td>{TV,\"Cable TV\",Internet,\"Wireless Internet\",\"A...</td>\n    </tr>\n    <tr>\n      <th>1</th>\n      <td>0.0</td>\n      <td>1</td>\n      <td>4</td>\n      <td>13</td>\n      <td>Entire home/apt</td>\n      <td>Real Bed</td>\n      <td>1.0</td>\n      <td>1.0</td>\n      <td>{TV,Internet,\"Wireless Internet\",Kitchen,\"Free...</td>\n    </tr>\n    <tr>\n      <th>2</th>\n      <td>25.0</td>\n      <td>10</td>\n      <td>11</td>\n      <td>1</td>\n      <td>Entire home/apt</td>\n      <td>Real Bed</td>\n      <td>7.0</td>\n      <td>4.5</td>\n      <td>{TV,\"Cable TV\",Internet,\"Wireless Internet\",\"A...</td>\n    </tr>\n    <tr>\n      <th>3</th>\n      <td>0.0</td>\n      <td>1</td>\n      <td>3</td>\n      <td>0</td>\n      <td>Entire home/apt</td>\n      <td>Real Bed</td>\n      <td>2.0</td>\n      <td>1.0</td>\n      <td>{Internet,\"Wireless Internet\",Kitchen,\"Indoor ...</td>\n    </tr>\n    <tr>\n      <th>4</th>\n      <td>15.0</td>\n      <td>6</td>\n      <td>6</td>\n      <td>30</td>\n      <td>Entire home/apt</td>\n      <td>Real Bed</td>\n      <td>3.0</td>\n      <td>2.0</td>\n      <td>{TV,\"Cable TV\",Internet,\"Wireless Internet\",Ki...</td>\n    </tr>\n    <tr>\n      <th>...</th>\n      <td>...</td>\n      <td>...</td>\n      <td>...</td>\n      <td>...</td>\n      <td>...</td>\n      <td>...</td>\n      <td>...</td>\n      <td>...</td>\n      <td>...</td>\n    </tr>\n    <tr>\n      <th>3813</th>\n      <td>0.0</td>\n      <td>1</td>\n      <td>6</td>\n      <td>18</td>\n      <td>Entire home/apt</td>\n      <td>Real Bed</td>\n      <td>3.0</td>\n      <td>2.0</td>\n      <td>{TV,\"Cable TV\",Internet,\"Wireless Internet\",\"A...</td>\n    </tr>\n    <tr>\n      <th>3814</th>\n      <td>25.0</td>\n      <td>3</td>\n      <td>4</td>\n      <td>6</td>\n      <td>Entire home/apt</td>\n      <td>Real Bed</td>\n      <td>2.0</td>\n      <td>1.0</td>\n      <td>{TV,\"Cable TV\",Internet,\"Wireless Internet\",Ki...</td>\n    </tr>\n    <tr>\n      <th>3815</th>\n      <td>20.0</td>\n      <td>2</td>\n      <td>2</td>\n      <td>29</td>\n      <td>Entire home/apt</td>\n      <td>Real Bed</td>\n      <td>1.0</td>\n      <td>1.0</td>\n      <td>{\"Cable TV\",\"Wireless Internet\",Kitchen,\"Free ...</td>\n    </tr>\n    <tr>\n      <th>3816</th>\n      <td>0.0</td>\n      <td>1</td>\n      <td>2</td>\n      <td>30</td>\n      <td>Entire home/apt</td>\n      <td>Real Bed</td>\n      <td>1.0</td>\n      <td>1.0</td>\n      <td>{TV,\"Wireless Internet\",Kitchen,\"Free Parking ...</td>\n    </tr>\n    <tr>\n      <th>3817</th>\n      <td>0.0</td>\n      <td>1</td>\n      <td>3</td>\n      <td>7</td>\n      <td>Entire home/apt</td>\n      <td>Real Bed</td>\n      <td>1.0</td>\n      <td>1.5</td>\n      <td>{TV,\"Cable TV\",Internet,\"Wireless Internet\",Ki...</td>\n    </tr>\n  </tbody>\n</table>\n<p>3802 rows × 9 columns</p>\n</div>"
     },
     "execution_count": 19,
     "metadata": {},
     "output_type": "execute_result"
    }
   ],
   "source": [
    "# Get the output values that should be predicted\n",
    "y = df_model['price']\n",
    "\n",
    "# Get the feature values that should be used to predict\n",
    "X = df_model[['extra_people','guests_included','accommodates','availability_30', 'room_type','bed_type','beds','bathrooms','amenities']]\n",
    "X"
   ]
  },
  {
   "cell_type": "code",
   "execution_count": 20,
   "metadata": {},
   "outputs": [
    {
     "data": {
      "text/plain": "            room_type  bed_type  \\\n0     Entire home/apt  Real Bed   \n1     Entire home/apt  Real Bed   \n2     Entire home/apt  Real Bed   \n3     Entire home/apt  Real Bed   \n4     Entire home/apt  Real Bed   \n...               ...       ...   \n3813  Entire home/apt  Real Bed   \n3814  Entire home/apt  Real Bed   \n3815  Entire home/apt  Real Bed   \n3816  Entire home/apt  Real Bed   \n3817  Entire home/apt  Real Bed   \n\n                                              amenities  \n0     {TV,\"Cable TV\",Internet,\"Wireless Internet\",\"A...  \n1     {TV,Internet,\"Wireless Internet\",Kitchen,\"Free...  \n2     {TV,\"Cable TV\",Internet,\"Wireless Internet\",\"A...  \n3     {Internet,\"Wireless Internet\",Kitchen,\"Indoor ...  \n4     {TV,\"Cable TV\",Internet,\"Wireless Internet\",Ki...  \n...                                                 ...  \n3813  {TV,\"Cable TV\",Internet,\"Wireless Internet\",\"A...  \n3814  {TV,\"Cable TV\",Internet,\"Wireless Internet\",Ki...  \n3815  {\"Cable TV\",\"Wireless Internet\",Kitchen,\"Free ...  \n3816  {TV,\"Wireless Internet\",Kitchen,\"Free Parking ...  \n3817  {TV,\"Cable TV\",Internet,\"Wireless Internet\",Ki...  \n\n[3802 rows x 3 columns]",
      "text/html": "<div>\n<style scoped>\n    .dataframe tbody tr th:only-of-type {\n        vertical-align: middle;\n    }\n\n    .dataframe tbody tr th {\n        vertical-align: top;\n    }\n\n    .dataframe thead th {\n        text-align: right;\n    }\n</style>\n<table border=\"1\" class=\"dataframe\">\n  <thead>\n    <tr style=\"text-align: right;\">\n      <th></th>\n      <th>room_type</th>\n      <th>bed_type</th>\n      <th>amenities</th>\n    </tr>\n  </thead>\n  <tbody>\n    <tr>\n      <th>0</th>\n      <td>Entire home/apt</td>\n      <td>Real Bed</td>\n      <td>{TV,\"Cable TV\",Internet,\"Wireless Internet\",\"A...</td>\n    </tr>\n    <tr>\n      <th>1</th>\n      <td>Entire home/apt</td>\n      <td>Real Bed</td>\n      <td>{TV,Internet,\"Wireless Internet\",Kitchen,\"Free...</td>\n    </tr>\n    <tr>\n      <th>2</th>\n      <td>Entire home/apt</td>\n      <td>Real Bed</td>\n      <td>{TV,\"Cable TV\",Internet,\"Wireless Internet\",\"A...</td>\n    </tr>\n    <tr>\n      <th>3</th>\n      <td>Entire home/apt</td>\n      <td>Real Bed</td>\n      <td>{Internet,\"Wireless Internet\",Kitchen,\"Indoor ...</td>\n    </tr>\n    <tr>\n      <th>4</th>\n      <td>Entire home/apt</td>\n      <td>Real Bed</td>\n      <td>{TV,\"Cable TV\",Internet,\"Wireless Internet\",Ki...</td>\n    </tr>\n    <tr>\n      <th>...</th>\n      <td>...</td>\n      <td>...</td>\n      <td>...</td>\n    </tr>\n    <tr>\n      <th>3813</th>\n      <td>Entire home/apt</td>\n      <td>Real Bed</td>\n      <td>{TV,\"Cable TV\",Internet,\"Wireless Internet\",\"A...</td>\n    </tr>\n    <tr>\n      <th>3814</th>\n      <td>Entire home/apt</td>\n      <td>Real Bed</td>\n      <td>{TV,\"Cable TV\",Internet,\"Wireless Internet\",Ki...</td>\n    </tr>\n    <tr>\n      <th>3815</th>\n      <td>Entire home/apt</td>\n      <td>Real Bed</td>\n      <td>{\"Cable TV\",\"Wireless Internet\",Kitchen,\"Free ...</td>\n    </tr>\n    <tr>\n      <th>3816</th>\n      <td>Entire home/apt</td>\n      <td>Real Bed</td>\n      <td>{TV,\"Wireless Internet\",Kitchen,\"Free Parking ...</td>\n    </tr>\n    <tr>\n      <th>3817</th>\n      <td>Entire home/apt</td>\n      <td>Real Bed</td>\n      <td>{TV,\"Cable TV\",Internet,\"Wireless Internet\",Ki...</td>\n    </tr>\n  </tbody>\n</table>\n<p>3802 rows × 3 columns</p>\n</div>"
     },
     "execution_count": 20,
     "metadata": {},
     "output_type": "execute_result"
    }
   ],
   "source": [
    "# limit to categorical data using df.select_dtypes()\n",
    "X_cat = X.select_dtypes(include=[object])\n",
    "X_cat"
   ]
  },
  {
   "cell_type": "markdown",
   "metadata": {},
   "source": [
    "#### Label encode"
   ]
  },
  {
   "cell_type": "code",
   "execution_count": 21,
   "metadata": {},
   "outputs": [
    {
     "data": {
      "text/plain": "   room_type  bed_type  amenities\n0          0         4       1463\n1          0         4       2719\n2          0         4       1346\n3          0         4        862\n4          0         4       2051",
      "text/html": "<div>\n<style scoped>\n    .dataframe tbody tr th:only-of-type {\n        vertical-align: middle;\n    }\n\n    .dataframe tbody tr th {\n        vertical-align: top;\n    }\n\n    .dataframe thead th {\n        text-align: right;\n    }\n</style>\n<table border=\"1\" class=\"dataframe\">\n  <thead>\n    <tr style=\"text-align: right;\">\n      <th></th>\n      <th>room_type</th>\n      <th>bed_type</th>\n      <th>amenities</th>\n    </tr>\n  </thead>\n  <tbody>\n    <tr>\n      <th>0</th>\n      <td>0</td>\n      <td>4</td>\n      <td>1463</td>\n    </tr>\n    <tr>\n      <th>1</th>\n      <td>0</td>\n      <td>4</td>\n      <td>2719</td>\n    </tr>\n    <tr>\n      <th>2</th>\n      <td>0</td>\n      <td>4</td>\n      <td>1346</td>\n    </tr>\n    <tr>\n      <th>3</th>\n      <td>0</td>\n      <td>4</td>\n      <td>862</td>\n    </tr>\n    <tr>\n      <th>4</th>\n      <td>0</td>\n      <td>4</td>\n      <td>2051</td>\n    </tr>\n  </tbody>\n</table>\n</div>"
     },
     "execution_count": 21,
     "metadata": {},
     "output_type": "execute_result"
    }
   ],
   "source": [
    "# TODO: create a LabelEncoder object and fit it to each feature in X\n",
    "\n",
    "# 1. INSTANTIATE\n",
    "# encode labels with value between 0 and n_classes-1.\n",
    "le = preprocessing.LabelEncoder()\n",
    "\n",
    "\n",
    "# 2/3. FIT AND TRANSFORM\n",
    "# use df.apply() to apply le.fit_transform to all columns\n",
    "X_2 = X_cat.apply(le.fit_transform)\n",
    "X_2.head()"
   ]
  },
  {
   "cell_type": "code",
   "execution_count": 22,
   "metadata": {},
   "outputs": [
    {
     "data": {
      "text/plain": "      extra_people  guests_included  accommodates  availability_30  beds  \\\n0              5.0                2             4               14   1.0   \n1              0.0                1             4               13   1.0   \n2             25.0               10            11                1   7.0   \n3              0.0                1             3                0   2.0   \n4             15.0                6             6               30   3.0   \n...            ...              ...           ...              ...   ...   \n3813           0.0                1             6               18   3.0   \n3814          25.0                3             4                6   2.0   \n3815          20.0                2             2               29   1.0   \n3816           0.0                1             2               30   1.0   \n3817           0.0                1             3                7   1.0   \n\n      bathrooms  \n0           1.0  \n1           1.0  \n2           4.5  \n3           1.0  \n4           2.0  \n...         ...  \n3813        2.0  \n3814        1.0  \n3815        1.0  \n3816        1.0  \n3817        1.5  \n\n[3802 rows x 6 columns]",
      "text/html": "<div>\n<style scoped>\n    .dataframe tbody tr th:only-of-type {\n        vertical-align: middle;\n    }\n\n    .dataframe tbody tr th {\n        vertical-align: top;\n    }\n\n    .dataframe thead th {\n        text-align: right;\n    }\n</style>\n<table border=\"1\" class=\"dataframe\">\n  <thead>\n    <tr style=\"text-align: right;\">\n      <th></th>\n      <th>extra_people</th>\n      <th>guests_included</th>\n      <th>accommodates</th>\n      <th>availability_30</th>\n      <th>beds</th>\n      <th>bathrooms</th>\n    </tr>\n  </thead>\n  <tbody>\n    <tr>\n      <th>0</th>\n      <td>5.0</td>\n      <td>2</td>\n      <td>4</td>\n      <td>14</td>\n      <td>1.0</td>\n      <td>1.0</td>\n    </tr>\n    <tr>\n      <th>1</th>\n      <td>0.0</td>\n      <td>1</td>\n      <td>4</td>\n      <td>13</td>\n      <td>1.0</td>\n      <td>1.0</td>\n    </tr>\n    <tr>\n      <th>2</th>\n      <td>25.0</td>\n      <td>10</td>\n      <td>11</td>\n      <td>1</td>\n      <td>7.0</td>\n      <td>4.5</td>\n    </tr>\n    <tr>\n      <th>3</th>\n      <td>0.0</td>\n      <td>1</td>\n      <td>3</td>\n      <td>0</td>\n      <td>2.0</td>\n      <td>1.0</td>\n    </tr>\n    <tr>\n      <th>4</th>\n      <td>15.0</td>\n      <td>6</td>\n      <td>6</td>\n      <td>30</td>\n      <td>3.0</td>\n      <td>2.0</td>\n    </tr>\n    <tr>\n      <th>...</th>\n      <td>...</td>\n      <td>...</td>\n      <td>...</td>\n      <td>...</td>\n      <td>...</td>\n      <td>...</td>\n    </tr>\n    <tr>\n      <th>3813</th>\n      <td>0.0</td>\n      <td>1</td>\n      <td>6</td>\n      <td>18</td>\n      <td>3.0</td>\n      <td>2.0</td>\n    </tr>\n    <tr>\n      <th>3814</th>\n      <td>25.0</td>\n      <td>3</td>\n      <td>4</td>\n      <td>6</td>\n      <td>2.0</td>\n      <td>1.0</td>\n    </tr>\n    <tr>\n      <th>3815</th>\n      <td>20.0</td>\n      <td>2</td>\n      <td>2</td>\n      <td>29</td>\n      <td>1.0</td>\n      <td>1.0</td>\n    </tr>\n    <tr>\n      <th>3816</th>\n      <td>0.0</td>\n      <td>1</td>\n      <td>2</td>\n      <td>30</td>\n      <td>1.0</td>\n      <td>1.0</td>\n    </tr>\n    <tr>\n      <th>3817</th>\n      <td>0.0</td>\n      <td>1</td>\n      <td>3</td>\n      <td>7</td>\n      <td>1.0</td>\n      <td>1.5</td>\n    </tr>\n  </tbody>\n</table>\n<p>3802 rows × 6 columns</p>\n</div>"
     },
     "execution_count": 22,
     "metadata": {},
     "output_type": "execute_result"
    }
   ],
   "source": [
    "X_non_cat = X.select_dtypes(exclude=[object])\n",
    "X_non_cat"
   ]
  },
  {
   "cell_type": "markdown",
   "metadata": {},
   "source": [
    "#### Merge label encoded with other features"
   ]
  },
  {
   "cell_type": "code",
   "execution_count": 23,
   "metadata": {},
   "outputs": [
    {
     "name": "stdout",
     "output_type": "stream",
     "text": [
      "<class 'pandas.core.frame.DataFrame'>\n",
      "Int64Index: 3802 entries, 0 to 3817\n",
      "Data columns (total 9 columns):\n",
      " #   Column           Non-Null Count  Dtype  \n",
      "---  ------           --------------  -----  \n",
      " 0   extra_people     3802 non-null   float64\n",
      " 1   guests_included  3802 non-null   int64  \n",
      " 2   accommodates     3802 non-null   int64  \n",
      " 3   availability_30  3802 non-null   int64  \n",
      " 4   beds             3802 non-null   float64\n",
      " 5   bathrooms        3802 non-null   float64\n",
      " 6   room_type        3802 non-null   int32  \n",
      " 7   bed_type         3802 non-null   int32  \n",
      " 8   amenities        3802 non-null   int32  \n",
      "dtypes: float64(3), int32(3), int64(3)\n",
      "memory usage: 252.5 KB\n"
     ]
    }
   ],
   "source": [
    "X = pd.concat([X_non_cat, X_2], axis=1)\n",
    "X.info()"
   ]
  },
  {
   "cell_type": "markdown",
   "metadata": {},
   "source": [
    "#### Split into train and test dataset"
   ]
  },
  {
   "cell_type": "code",
   "execution_count": 24,
   "metadata": {},
   "outputs": [],
   "source": [
    "X_train, X_test, y_train, y_test = train_test_split(X, y, test_size=0.2, random_state =0 )"
   ]
  },
  {
   "cell_type": "markdown",
   "metadata": {},
   "source": [
    "#### Train the model"
   ]
  },
  {
   "cell_type": "code",
   "execution_count": 25,
   "metadata": {},
   "outputs": [],
   "source": [
    "from sklearn.ensemble import RandomForestRegressor\n",
    "  \n",
    " # create regressor object\n",
    "regressor = RandomForestRegressor(n_estimators = 100, random_state = 20)\n",
    "  \n",
    "# fit the regressor with x and y data\n",
    "regressor.fit(X_train, y_train)\n",
    "y_pred = regressor.predict(X_test)"
   ]
  },
  {
   "cell_type": "code",
   "execution_count": 26,
   "metadata": {
    "scrolled": false
   },
   "outputs": [
    {
     "data": {
      "text/plain": "<Figure size 432x288 with 1 Axes>",
      "image/png": "[encoded data removed]"
     },
     "metadata": {
      "needs_background": "light"
     },
     "output_type": "display_data"
    }
   ],
   "source": [
    "sorted_idx = regressor.feature_importances_.argsort()\n",
    "plt.barh(X_train.columns[sorted_idx], regressor.feature_importances_[sorted_idx])\n",
    "plt.xlabel(\"Random Forest Feature Importance\");"
   ]
  },
  {
   "cell_type": "markdown",
   "metadata": {},
   "source": [
    "<b> ->  </b> Here the accommdates seems to be the most important variable, but this need to be considered carefully. Because the price is not the total price with all extra guest but the price for the included guests."
   ]
  },
  {
   "cell_type": "markdown",
   "metadata": {},
   "source": [
    "#### Calculate the loss after training "
   ]
  },
  {
   "cell_type": "code",
   "execution_count": 27,
   "metadata": {
    "scrolled": true
   },
   "outputs": [
    {
     "name": "stdout",
     "output_type": "stream",
     "text": [
      "Mean Absolute Error: 38.63212180486327\n",
      "Mean Squared Error: 3950.7524032781744\n",
      "Root Mean Squared Error: 62.855010963949205\n"
     ]
    }
   ],
   "source": [
    "from sklearn import metrics\n",
    "\n",
    "print('Mean Absolute Error:', metrics.mean_absolute_error(y_test, y_pred))\n",
    "print('Mean Squared Error:', metrics.mean_squared_error(y_test, y_pred))\n",
    "print('Root Mean Squared Error:', np.sqrt(metrics.mean_squared_error(y_test, y_pred)))"
   ]
  },
  {
   "cell_type": "markdown",
   "metadata": {},
   "source": [
    "The model to predict the price seems to have a poor quality and seems far away from being perfect. A standard error of 62 for a price of averaging 127 is not very helpful. Also, the standard deviation of the variable of interest overall is 90. To increase the model further, considerations mentioned above should be taken care of as well as some further features engineering and using maybe more or other features. So it can be said that by just using a simple subset without any deeper engineering and applying a random forest regression, a good model fit can not be archived."
   ]
  },
  {
   "cell_type": "markdown",
   "metadata": {},
   "source": [
    "# References\n",
    "\n",
    "- https://www.ritchieng.com/machinelearning-one-hot-encoding/\n",
    "- https://medium.com/@theclickreader/random-forest-regression-explained-with-implementation-in-python-3dad88caf165\n",
    "- https://mljar.com/blog/feature-importance-in-random-forest/"
   ]
  },
  {
   "cell_type": "code",
   "execution_count": 27,
   "metadata": {},
   "outputs": [],
   "source": []
  }
 ],
 "metadata": {
  "kernelspec": {
   "display_name": "Python 3",
   "language": "python",
   "name": "python3"
  },
  "language_info": {
   "codemirror_mode": {
    "name": "ipython",
    "version": 3
   },
   "file_extension": ".py",
   "mimetype": "text/x-python",
   "name": "python",
   "nbconvert_exporter": "python",
   "pygments_lexer": "ipython3",
   "version": "3.8.5"
  }
 },
 "nbformat": 4,
 "nbformat_minor": 4
}