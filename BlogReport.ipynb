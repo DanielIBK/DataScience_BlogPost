{
 "cells": [
  {
   "cell_type": "code",
   "execution_count": 94,
   "metadata": {},
   "outputs": [
    {
     "name": "stderr",
     "output_type": "stream",
     "text": [
      "19:1: W391 blank line at end of file\n"
     ]
    }
   ],
   "source": [
    "%%pycodestyle\n",
    "import numpy as np\n",
    "import pandas as pd\n",
    "# import math\n",
    "\n",
    "import matplotlib.pyplot as plt\n",
    "import seaborn as sns\n",
    "\n",
    "from sklearn.model_selection import train_test_split\n",
    "from sklearn import preprocessing\n",
    "# from sklearn.linear_model import LinearRegression\n",
    "# from sklearn.metrics import r2_score, mean_squared_error\n",
    "# from sklearn.feature_selection import SelectKBest\n",
    "# from sklearn.feature_selection import f_regression\n",
    "\n",
    "# import collections\n",
    "\n",
    "%matplotlib inline"
   ]
  },
  {
   "cell_type": "markdown",
   "metadata": {
    "collapsed": false,
    "pycharm": {
     "name": "#%% md\n"
    }
   },
   "source": [
    "# Overview"
   ]
  },
  {
   "cell_type": "code",
   "execution_count": 14,
   "metadata": {},
   "outputs": [
    {
     "name": "stderr",
     "output_type": "stream",
     "text": [
      "3:1: W391 blank line at end of file\n"
     ]
    }
   ],
   "source": [
    "%%pycodestyle\n",
    "pd.set_option('display.max_rows', 150)"
   ]
  },
  {
   "cell_type": "code",
   "execution_count": 15,
   "metadata": {},
   "outputs": [
    {
     "name": "stderr",
     "output_type": "stream",
     "text": [
      "4:1: W391 blank line at end of file\n"
     ]
    }
   ],
   "source": [
    "%%pycodestyle\n",
    "df = pd.read_csv('listings.csv')\n",
    "df.head(5)"
   ]
  },
  {
   "cell_type": "code",
   "execution_count": 16,
   "metadata": {},
   "outputs": [
    {
     "name": "stderr",
     "output_type": "stream",
     "text": [
      "3:1: W391 blank line at end of file\n"
     ]
    }
   ],
   "source": [
    "%%pycodestyle\n",
    "df.price.describe()"
   ]
  },
  {
   "cell_type": "code",
   "execution_count": 73,
   "metadata": {},
   "outputs": [
    {
     "name": "stderr",
     "output_type": "stream",
     "text": [
      "3:1: W391 blank line at end of file\n"
     ]
    }
   ],
   "source": [
    "%%pycodestyle\n",
    "df.describe()"
   ]
  },
  {
   "cell_type": "code",
   "execution_count": 76,
   "metadata": {
    "scrolled": true
   },
   "outputs": [
    {
     "name": "stderr",
     "output_type": "stream",
     "text": [
      "17:1: W391 blank line at end of file\n"
     ]
    }
   ],
   "source": [
    "%%pycodestyle\n",
    "# The shape meaning rows and columns of the dataframe\n",
    "print(df.shape, '\\n' + '#' * 60)\n",
    "\n",
    "# The data types in the dataset\n",
    "print(df.dtypes.value_counts(), '\\n' + '#' * 60)\n",
    "\n",
    "\n",
    "# The column names for the data type float64\n",
    "print(df.dtypes[df.dtypes == 'float64'], '\\n' + '#' * 60)\n",
    "\n",
    "# The column names for the data type int\n",
    "print(df.dtypes[df.dtypes == 'int64'], '\\n' + '#' * 60)\n",
    "\n",
    "# The column names for the data type object\n",
    "print(df.dtypes[df.dtypes == 'object'], '\\n' + '#' * 60)"
   ]
  },
  {
   "cell_type": "markdown",
   "metadata": {},
   "source": [
    "There are some columns that are of type object, but can be converted to int64 or float 64 because in fact the are numbers like price columns. be treated as integer or float (especially those price columns).\n",
    "\n",
    "We keep that in mind for later, if we use some of them we first convert them into the right type."
   ]
  },
  {
   "cell_type": "markdown",
   "metadata": {},
   "source": [
    "##### Missing Values"
   ]
  },
  {
   "cell_type": "code",
   "execution_count": 20,
   "metadata": {
    "scrolled": true
   },
   "outputs": [
    {
     "name": "stderr",
     "output_type": "stream",
     "text": [
      "3:1: W391 blank line at end of file\n"
     ]
    }
   ],
   "source": [
    "%%pycodestyle\n",
    "df.isnull().sum().sort_values(ascending=False)"
   ]
  },
  {
   "cell_type": "markdown",
   "metadata": {},
   "source": [
    "##### Sole Unique No Missing Values"
   ]
  },
  {
   "cell_type": "code",
   "execution_count": 22,
   "metadata": {},
   "outputs": [
    {
     "name": "stderr",
     "output_type": "stream",
     "text": [
      "3:1: W391 blank line at end of file\n"
     ]
    }
   ],
   "source": [
    "%%pycodestyle\n",
    "df.nunique()[df.nunique() == df.shape[0]]"
   ]
  },
  {
   "cell_type": "markdown",
   "metadata": {},
   "source": [
    "## Analysis"
   ]
  },
  {
   "cell_type": "markdown",
   "metadata": {},
   "source": [
    "### Focus on the variables with no missing data"
   ]
  },
  {
   "cell_type": "code",
   "execution_count": 31,
   "metadata": {
    "scrolled": true
   },
   "outputs": [
    {
     "name": "stderr",
     "output_type": "stream",
     "text": [
      "2:80: E501 line too long (151 > 79 characters)\n",
      "5:1: W391 blank line at end of file\n"
     ]
    }
   ],
   "source": [
    "%%pycodestyle\n",
    "df_sub = df[['price', 'extra_people', 'guests_included', 'accommodates', 'availability_30', 'room_type', 'bed_type', 'beds', 'bathrooms', 'amenities']]\n",
    "\n",
    "df_sub"
   ]
  },
  {
   "cell_type": "code",
   "execution_count": 82,
   "metadata": {},
   "outputs": [
    {
     "name": "stderr",
     "output_type": "stream",
     "text": [
      "7:80: E501 line too long (95 > 79 characters)\n",
      "10:80: E501 line too long (80 > 79 characters)\n",
      "16:80: E501 line too long (105 > 79 characters)\n",
      "20:1: W391 blank line at end of file\n"
     ]
    }
   ],
   "source": [
    "%%pycodestyle\n",
    "def price_to_float(input_df, column_list):\n",
    "    \"\"\"_summary_\n",
    "\n",
    "    Args:\n",
    "        input_df (df): input dataframe that should be manipulated\n",
    "        column_list (list): A list of column names that values should be converted to the float\n",
    "\n",
    "    Returns:\n",
    "        dataframe: the input dataframe with the input columns converted to float\n",
    "    \"\"\"\n",
    "    output_df = input_df\n",
    "    for col in column_list:\n",
    "        print(col)\n",
    "        if input_df.dtypes[col] == object:\n",
    "            output_df[col] = input_df[col].str.replace('$', '').str.replace('€', '').str.replace(',', '')\n",
    "            output_df[col].fillna(0, inplace=True)\n",
    "            output_df[col] = output_df[col].astype(float)\n",
    "    return output_df"
   ]
  },
  {
   "cell_type": "code",
   "execution_count": 83,
   "metadata": {},
   "outputs": [
    {
     "name": "stderr",
     "output_type": "stream",
     "text": [
      "4:1: W391 blank line at end of file\n"
     ]
    }
   ],
   "source": [
    "%%pycodestyle\n",
    "df_clean = price_to_float(df_sub, ['price', 'extra_people'])\n",
    "df_clean['price']"
   ]
  },
  {
   "cell_type": "markdown",
   "metadata": {},
   "source": [
    "#### Question 1: Are accommodations with more bedrooms in general cheaper per person?"
   ]
  },
  {
   "cell_type": "code",
   "execution_count": 84,
   "metadata": {
    "scrolled": true
   },
   "outputs": [
    {
     "name": "stderr",
     "output_type": "stream",
     "text": [
      "3:80: E501 line too long (90 > 79 characters)\n",
      "10:1: W391 blank line at end of file\n"
     ]
    }
   ],
   "source": [
    "%%pycodestyle\n",
    "# the histogram of the data\n",
    "n, bins, patches = plt.hist(df.accommodates, 50, density=False, facecolor='g', alpha=0.75)\n",
    "\n",
    "plt.xlabel('Accommodates')\n",
    "plt.ylabel('Count')\n",
    "plt.title('Histogram of accommodates')\n",
    "plt.grid(True)\n",
    "plt.show()"
   ]
  },
  {
   "cell_type": "code",
   "execution_count": 93,
   "metadata": {},
   "outputs": [
    {
     "name": "stderr",
     "output_type": "stream",
     "text": [
      "12:80: E501 line too long (119 > 79 characters)\n",
      "17:1: W391 blank line at end of file\n"
     ]
    }
   ],
   "source": [
    "%%pycodestyle\n",
    "def calcfullybookedpice(input_df):\n",
    "    \"\"\"\n",
    "    Args:\n",
    "        input_df (df): the df that should be manipulated\n",
    "\n",
    "    Returns:\n",
    "        df: the manipulated input dataframe\n",
    "    \"\"\"\n",
    "    resultList = list()\n",
    "    for row in range(input_df.shape[0]):\n",
    "        extra_charge = (input_df['accommodates'][row]-input_df['guests_included'][row]) * input_df['extra_people'][row]\n",
    "        fully_booked_price = input_df['price'][row] + extra_charge\n",
    "        resultList.append(fully_booked_price)\n",
    "    input_df[\"fully_booked_price\"] = resultList\n",
    "    return input_df"
   ]
  },
  {
   "cell_type": "code",
   "execution_count": 85,
   "metadata": {},
   "outputs": [
    {
     "name": "stderr",
     "output_type": "stream",
     "text": [
      "3:80: E501 line too long (84 > 79 characters)\n",
      "4:1: W391 blank line at end of file\n"
     ]
    }
   ],
   "source": [
    "%%pycodestyle\n",
    "df_clean = calcfullybookedpice(df_clean)\n",
    "df_clean['PricePerPerson'] = df_clean['fully_booked_price']/df_clean['accommodates']"
   ]
  },
  {
   "cell_type": "code",
   "execution_count": 86,
   "metadata": {},
   "outputs": [
    {
     "name": "stderr",
     "output_type": "stream",
     "text": [
      "5:1: W391 blank line at end of file\n"
     ]
    }
   ],
   "source": [
    "%%pycodestyle\n",
    "p = sns.catplot(data=df_clean, x=\"beds\", y=\"PricePerPerson\", kind=\"boxen\")\n",
    "p.set_ylabels(\"PricePerPerson (in $)\")\n",
    "p.set_titles(\"Bedprices per Person\")"
   ]
  },
  {
   "cell_type": "markdown",
   "metadata": {},
   "source": [
    "Based on the simple analysis seen in the boxplot above, it does not appear that more bedrooms generally lower the price per person. However, it can be seen that the variance decreases with a higher bed size."
   ]
  },
  {
   "cell_type": "markdown",
   "metadata": {},
   "source": [
    "#### Question 2: Which amenities are most offered in apartments?"
   ]
  },
  {
   "cell_type": "code",
   "execution_count": 71,
   "metadata": {},
   "outputs": [
    {
     "name": "stderr",
     "output_type": "stream",
     "text": [
      "16:80: E501 line too long (122 > 79 characters)\n",
      "18:1: W391 blank line at end of file\n"
     ]
    }
   ],
   "source": [
    "%%pycodestyle\n",
    "def countListOfStrings(df, searchColumn):\n",
    "    \"\"\"\n",
    "    Args:\n",
    "        df (dataframe): _description_\n",
    "        searchColumn (str): _description_\n",
    "\n",
    "    Returns:\n",
    "        _type_: _description_\n",
    "    \"\"\"\n",
    "    new_list = list()\n",
    "    for row in range(df.shape[0]):\n",
    "        arr = df[searchColumn][row].split(',')\n",
    "        for v in arr:\n",
    "            v_clean = v.replace('{', '').replace('}', '').replace('\"', '')\n",
    "            new_list.append(v_clean)\n",
    "    return new_list\n",
    "\n",
    "\n",
    "def plotCount(df, search_column):\n",
    "    \"\"\"\n",
    "    Args:\n",
    "        df (dataframe): _description_\n",
    "        search_column (str\"): _description_\n",
    "    \"\"\"\n",
    "    temp_list = countListOfStrings(df, search_column)\n",
    "    p = plt.figure(figsize=(12, 8))\n",
    "    sns.countplot(y=countListOfStrings(df, search_column),\n",
    "                  order=[elem for count, elem in sorted(((temp_list.count(e), e) for e in set(temp_list)), reverse=True)],\n",
    "                  ).set(title=\"Countplot of \" + search_column)"
   ]
  },
  {
   "cell_type": "code",
   "execution_count": 47,
   "metadata": {},
   "outputs": [
    {
     "name": "stderr",
     "output_type": "stream",
     "text": [
      "2:33: E703 statement ends with a semicolon\n",
      "3:1: W391 blank line at end of file\n"
     ]
    }
   ],
   "source": [
    "%%pycodestyle\n",
    "plotCount(df_clean, 'amenities');"
   ]
  },
  {
   "cell_type": "markdown",
   "metadata": {},
   "source": []
  },
  {
   "cell_type": "markdown",
   "metadata": {},
   "source": [
    "As it can be seen in the count-plot above the most common amenities in the dataset listed are:\n",
    "+ Wireless Internet\n",
    "+ Heating\n",
    "+ Kitchen\n",
    "+ Internet\n",
    "+ Smoke Detector\n",
    "\n",
    "And the least common amenities listed are:\n",
    "\n",
    "+ Lock on Bedroom Door\n",
    "+ Doorman\n",
    "+ Smoking Allowed\n",
    "+ Other pet(s)\n",
    "+ Washer / Dryer\n",
    "\n",
    "Also in the lower area a blank thing is reported, but this is due to data errors and is omitted in further analysis."
   ]
  },
  {
   "cell_type": "markdown",
   "metadata": {},
   "source": [
    "#### Question 3: Is it possible to predict the Airbnb price by using a simple sub-sample of features in a basic Random Forest Regression?"
   ]
  },
  {
   "cell_type": "markdown",
   "metadata": {},
   "source": [
    "#### Make ML dataframe subset"
   ]
  },
  {
   "cell_type": "code",
   "execution_count": 45,
   "metadata": {
    "scrolled": true
   },
   "outputs": [
    {
     "name": "stderr",
     "output_type": "stream",
     "text": [
      "3:1: W391 blank line at end of file\n"
     ]
    }
   ],
   "source": [
    "%%pycodestyle\n",
    "df_model = df_clean.dropna()"
   ]
  },
  {
   "cell_type": "markdown",
   "metadata": {},
   "source": [
    "Drop the missing values since there are only 10 in the dataset not imputation methods are applied."
   ]
  },
  {
   "cell_type": "code",
   "execution_count": 44,
   "metadata": {
    "scrolled": true
   },
   "outputs": [
    {
     "name": "stderr",
     "output_type": "stream",
     "text": [
      "6:80: E501 line too long (143 > 79 characters)\n",
      "8:1: W391 blank line at end of file\n"
     ]
    }
   ],
   "source": [
    "%%pycodestyle\n",
    "# Get the output values that should be predicted\n",
    "y = df_model['price']\n",
    "\n",
    "# Get the feature values that should be used to predict\n",
    "X = df_model[['extra_people', 'guests_included', 'accommodates', 'availability_30', 'room_type', 'bed_type', 'beds', 'bathrooms', 'amenities']]\n",
    "X"
   ]
  },
  {
   "cell_type": "code",
   "execution_count": 42,
   "metadata": {},
   "outputs": [
    {
     "name": "stderr",
     "output_type": "stream",
     "text": [
      "5:1: W391 blank line at end of file\n"
     ]
    }
   ],
   "source": [
    "%%pycodestyle\n",
    "# limit to categorical data using df.select_dtypes()\n",
    "X_cat = X.select_dtypes(include=[object])\n",
    "X_cat"
   ]
  },
  {
   "cell_type": "markdown",
   "metadata": {},
   "source": [
    "#### Label encode"
   ]
  },
  {
   "cell_type": "code",
   "execution_count": 41,
   "metadata": {},
   "outputs": [
    {
     "name": "stderr",
     "output_type": "stream",
     "text": [
      "13:1: W391 blank line at end of file\n"
     ]
    }
   ],
   "source": [
    "%%pycodestyle\n",
    "# TODO: create a LabelEncoder object and fit it to each feature in X\n",
    "\n",
    "# 1. INSTANTIATE\n",
    "# encode labels with value between 0 and n_classes-1.\n",
    "le = preprocessing.LabelEncoder()\n",
    "\n",
    "\n",
    "# 2/3. FIT AND TRANSFORM\n",
    "# use df.apply() to apply le.fit_transform to all columns\n",
    "X_2 = X_cat.apply(le.fit_transform)\n",
    "X_2.head()"
   ]
  },
  {
   "cell_type": "code",
   "execution_count": 40,
   "metadata": {},
   "outputs": [
    {
     "name": "stderr",
     "output_type": "stream",
     "text": [
      "4:1: W391 blank line at end of file\n"
     ]
    }
   ],
   "source": [
    "%%pycodestyle\n",
    "X_non_cat = X.select_dtypes(exclude=[object])\n",
    "X_non_cat"
   ]
  },
  {
   "cell_type": "markdown",
   "metadata": {},
   "source": [
    "#### Merge label encoded with other features"
   ]
  },
  {
   "cell_type": "code",
   "execution_count": 39,
   "metadata": {},
   "outputs": [
    {
     "name": "stderr",
     "output_type": "stream",
     "text": [
      "4:1: W391 blank line at end of file\n"
     ]
    }
   ],
   "source": [
    "%%pycodestyle\n",
    "X = pd.concat([X_non_cat, X_2], axis=1)\n",
    "X.info()"
   ]
  },
  {
   "cell_type": "markdown",
   "metadata": {},
   "source": [
    "#### Split into train and test dataset"
   ]
  },
  {
   "cell_type": "code",
   "execution_count": 87,
   "metadata": {},
   "outputs": [
    {
     "name": "stderr",
     "output_type": "stream",
     "text": [
      "2:80: E501 line too long (88 > 79 characters)\n",
      "3:1: W391 blank line at end of file\n"
     ]
    }
   ],
   "source": [
    "%%pycodestyle\n",
    "X_train, X_test, y_train, y_test = train_test_split(X, y, test_size=0.2, random_state=0)"
   ]
  },
  {
   "cell_type": "markdown",
   "metadata": {},
   "source": [
    "#### Train the model"
   ]
  },
  {
   "cell_type": "code",
   "execution_count": 92,
   "metadata": {},
   "outputs": [
    {
     "name": "stderr",
     "output_type": "stream",
     "text": [
      "10:1: W391 blank line at end of file\n"
     ]
    }
   ],
   "source": [
    "%%pycodestyle\n",
    "from sklearn.ensemble import RandomForestRegressor\n",
    "\n",
    "# create regressor object\n",
    "regressor = RandomForestRegressor(n_estimators=100, random_state=20)\n",
    "\n",
    "# fit the regressor with x and y data\n",
    "regressor.fit(X_train, y_train)\n",
    "y_pred = regressor.predict(X_test)"
   ]
  },
  {
   "cell_type": "code",
   "execution_count": 33,
   "metadata": {
    "scrolled": false
   },
   "outputs": [
    {
     "name": "stderr",
     "output_type": "stream",
     "text": [
      "3:80: E501 line too long (81 > 79 characters)\n",
      "4:47: E703 statement ends with a semicolon\n",
      "5:1: W391 blank line at end of file\n"
     ]
    }
   ],
   "source": [
    "%%pycodestyle\n",
    "sorted_idx = regressor.feature_importances_.argsort()\n",
    "plt.barh(X_train.columns[sorted_idx], regressor.feature_importances_[sorted_idx])\n",
    "plt.xlabel(\"Random Forest Feature Importance\");"
   ]
  },
  {
   "cell_type": "markdown",
   "metadata": {},
   "source": [
    "<b> ->  </b> Here the accommdates seems to be the most important variable, but this need to be considered carefully. Because the price is not the total price with all extra guest but the price for the included guests."
   ]
  },
  {
   "cell_type": "markdown",
   "metadata": {},
   "source": [
    "#### Calculate the loss after training "
   ]
  },
  {
   "cell_type": "code",
   "execution_count": 32,
   "metadata": {
    "scrolled": true
   },
   "outputs": [
    {
     "name": "stderr",
     "output_type": "stream",
     "text": [
      "6:80: E501 line too long (86 > 79 characters)\n",
      "7:1: W391 blank line at end of file\n"
     ]
    }
   ],
   "source": [
    "%%pycodestyle\n",
    "from sklearn import metrics\n",
    "\n",
    "print('Mean Absolute Error:', metrics.mean_absolute_error(y_test, y_pred))\n",
    "print('Mean Squared Error:', metrics.mean_squared_error(y_test, y_pred))\n",
    "print('Root Mean Squared Error:', np.sqrt(metrics.mean_squared_error(y_test, y_pred)))"
   ]
  },
  {
   "cell_type": "markdown",
   "metadata": {},
   "source": [
    "The price prediction model seems to be of poor quality and far from perfect. A standard error of 38 for a price of 127 on average is not very helpful. Moreover, the total standard deviation of the observed variables is 62. To further improve the model, the above considerations should be taken into account, as well as some more features should be engineered and perhaps some more or different features should be used. So, it can be said that by using a simple sub-set without deeper engineering using random forest regression, a good model fit cannot be obtained."
   ]
  },
  {
   "cell_type": "code",
   "execution_count": 98,
   "metadata": {},
   "outputs": [],
   "source": []
  },
  {
   "cell_type": "markdown",
   "metadata": {},
   "source": [
    "# References\n",
    "\n",
    "- https://www.ritchieng.com/machinelearning-one-hot-encoding/\n",
    "- https://medium.com/@theclickreader/random-forest-regression-explained-with-implementation-in-python-3dad88caf165\n",
    "- https://mljar.com/blog/feature-importance-in-random-forest/"
   ]
  }
 ],
 "metadata": {
  "kernelspec": {
   "display_name": "Python 3.9.7 ('base')",
   "language": "python",
   "name": "python3"
  },
  "language_info": {
   "codemirror_mode": {
    "name": "ipython",
    "version": 3
   },
   "file_extension": ".py",
   "mimetype": "text/x-python",
   "name": "python",
   "nbconvert_exporter": "python",
   "pygments_lexer": "ipython3",
   "version": "3.9.7"
  },
  "vscode": {
   "interpreter": {
    "hash": "47c0fc4e0d038ae915347f3e0652d8d3ec9061f5399eb83a3b36288bc2a7b85d"
   }
  }
 },
 "nbformat": 4,
 "nbformat_minor": 4
}
